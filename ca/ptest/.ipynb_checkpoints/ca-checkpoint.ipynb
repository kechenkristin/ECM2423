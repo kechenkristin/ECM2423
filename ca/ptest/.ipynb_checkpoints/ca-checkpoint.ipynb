{
 "cells": [
  {
   "cell_type": "markdown",
   "id": "d7b8b2f1-f560-45c2-bbb3-99c76b195927",
   "metadata": {
    "tags": []
   },
   "source": [
    "### Question 1.1: Describe how you would frame the maze solver as a search problem."
   ]
  },
  {
   "cell_type": "markdown",
   "id": "e75cb203-6ac7-47f7-9657-d37c5c19310f",
   "metadata": {
    "tags": []
   },
   "source": [
    "1. Consider the maze to be the state space, transfer the .txt to be a Maze class, and Maze has an instance of a two dimentional boolean array(true if the node is a path, false if it's wall), indexing each node by its coordinate.\n",
    "\n",
    "2. The start state is the node at the top, and goal state is the node at the bottom.\n",
    "\n",
    "3. Implementing a successor funtion which will return next node, the action and cost to the next node.\n",
    "\n",
    "4. The solution is a sequence of actions (a plan) which transforms the start state to a goal state."
   ]
  },
  {
   "cell_type": "raw",
   "id": "1e413951-86c8-4b71-90aa-f111616e2b80",
   "metadata": {
    "tags": []
   },
   "source": []
  },
  {
   "cell_type": "markdown",
   "id": "d05ff7fa-1220-43df-b605-aca06b260186",
   "metadata": {
    "tags": []
   },
   "source": [
    "### Question 1.2: Solve the maze using depth-first search."
   ]
  },
  {
   "cell_type": "code",
   "execution_count": 3,
   "id": "b35e228d-51de-4375-9373-bf21fac0d712",
   "metadata": {
    "tags": []
   },
   "outputs": [
    {
     "data": {
      "text/plain": [
       "'hello'"
      ]
     },
     "execution_count": 3,
     "metadata": {},
     "output_type": "execute_result"
    }
   ],
   "source": [
    " \"hello\""
   ]
  }
 ],
 "metadata": {
  "kernelspec": {
   "display_name": "Python 3 (ipykernel)",
   "language": "python",
   "name": "python3"
  },
  "language_info": {
   "codemirror_mode": {
    "name": "ipython",
    "version": 3
   },
   "file_extension": ".py",
   "mimetype": "text/x-python",
   "name": "python",
   "nbconvert_exporter": "python",
   "pygments_lexer": "ipython3",
   "version": "3.10.8"
  }
 },
 "nbformat": 4,
 "nbformat_minor": 5
}
